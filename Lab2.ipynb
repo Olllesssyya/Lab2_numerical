{
 "cells": [
  {
   "cell_type": "code",
   "execution_count": null,
   "id": "7d7e4235-4875-43c8-aa38-7cce2ae4b8b0",
   "metadata": {},
   "outputs": [
    {
     "name": "stdout",
     "output_type": "stream",
     "text": [
      "Found segment:  [-1, 0]\n",
      "Found segment:  [1, 2]\n",
      "Solution of a nonlinear equation on a segment [0.0, 1.0]\n",
      "x=  0.99951   -   Half division method\n"
     ]
    },
    {
     "name": "stderr",
     "output_type": "stream",
     "text": [
      "C:\\Users\\oleg\\AppData\\Local\\Temp\\ipykernel_16844\\3420138518.py:40: DeprecationWarning: scipy.misc.derivative is deprecated in SciPy v1.10.0; and will be completely removed in SciPy v1.12.0. You may consider using findiff: https://github.com/maroba/findiff or numdifftools: https://github.com/pbrod/numdifftools\n",
      "  if (f(a)*derivative(f,a,n=2)>0):\n"
     ]
    }
   ],
   "source": [
    "import math\n",
    "import numpy as np\n",
    "from scipy.misc import derivative\n",
    "def f(x):\n",
    "    return 3*pow(x, 4) - 4*pow(x,3) + pow(x, 2)  - 2*x -1\n",
    "eps=0.001\n",
    "\n",
    "def find_segments(): #відокремлюємо корені\n",
    "    search_range = np.arange(-10, 10, 1)\n",
    "    \n",
    "    a = None\n",
    "    previous_x = None\n",
    "    current_x  = None\n",
    "    segments = []\n",
    "\n",
    "    for x in search_range:\n",
    "        x = round(x, 4)\n",
    "        current_x = f(x)\n",
    "        if previous_x != None and previous_x * current_x < 0:\n",
    "            segments.append((a, x))\n",
    "        a = x\n",
    "        previous_x = current_x\n",
    "    return segments\n",
    "\n",
    "segments = find_segments()\n",
    "for a, b in segments:\n",
    "    print(f'Found segment:  [{a}, {b}]')\n",
    "\n",
    "def rec(a, b, eps): #метод половинного ділення\n",
    "    while (abs(a-b) > eps):\n",
    "        if f(a)*f((a+b)/2)<0: \n",
    "            b = (a+b)/2 \n",
    "        else: \n",
    "            a = (a+b)/2\n",
    "        x = (a+b)/2\n",
    "    \n",
    "    print ('x= ', round(x,5), '  -   Half division method')\n",
    "\n",
    "def hord (a,b,eps): #метод хорд\n",
    "    if (f(a)*derivative(f,a,n=2)>0):\n",
    "        x0=a\n",
    "        xi=b\n",
    "    else:\n",
    "        x0=b\n",
    "        xi=a\n",
    "    xi_1=xi-(xi-x0)*f(xi)/(f(xi)-f(x0))\n",
    "    while (abs(xi_1-xi)>eps):\n",
    "        xi=xi_1\n",
    "        xi_1=xi-(xi-x0)*f(xi)/(f(xi)-f(x0))\n",
    "    print('x= ', round (xi_1,5) , '  -   Chord method')\n",
    "a=0. #початок першого відрізка\n",
    "b=1. # кінець першого відрізка\n",
    "print (f'Solution of a nonlinear equation on a segment [{a}, {b}]')\n",
    "rec (a,b,eps) #викликаємо метод пол. ділення для першого відрізка\n",
    "hord (a,b,eps) #викликаємо метод хорд для першого відрізка\n",
    "#якщо два відрізка, то потрібно викликати функції для другого відрізка\n",
    "rec (a1,b1,eps) \n",
    "hord (a1,b1,eps)\n"
   ]
  },
  {
   "cell_type": "code",
   "execution_count": null,
   "id": "d5127a99-b76a-4485-8bd1-4efa967bc32b",
   "metadata": {},
   "outputs": [],
   "source": []
  }
 ],
 "metadata": {
  "kernelspec": {
   "display_name": "Python 3 (ipykernel)",
   "language": "python",
   "name": "python3"
  },
  "language_info": {
   "codemirror_mode": {
    "name": "ipython",
    "version": 3
   },
   "file_extension": ".py",
   "mimetype": "text/x-python",
   "name": "python",
   "nbconvert_exporter": "python",
   "pygments_lexer": "ipython3",
   "version": "3.10.7"
  }
 },
 "nbformat": 4,
 "nbformat_minor": 5
}
